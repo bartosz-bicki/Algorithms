{
  "nbformat": 4,
  "nbformat_minor": 0,
  "metadata": {
    "colab": {
      "name": "Untitled5.ipynb",
      "provenance": [],
      "collapsed_sections": [],
      "authorship_tag": "ABX9TyPa/ABN/nZMygNmo4F4rVn8",
      "include_colab_link": true
    },
    "kernelspec": {
      "name": "python3",
      "display_name": "Python 3"
    },
    "language_info": {
      "name": "python"
    }
  },
  "cells": [
    {
      "cell_type": "markdown",
      "metadata": {
        "id": "view-in-github",
        "colab_type": "text"
      },
      "source": [
        "<a href=\"https://colab.research.google.com/github/bartosz-bicki/Algorithms/blob/master/Untitled5.ipynb\" target=\"_parent\"><img src=\"https://colab.research.google.com/assets/colab-badge.svg\" alt=\"Open In Colab\"/></a>"
      ]
    },
    {
      "cell_type": "code",
      "metadata": {
        "id": "H5ekE_LLD90n",
        "colab": {
          "base_uri": "https://localhost:8080/",
          "height": 439
        },
        "outputId": "2f55cece-8779-4c68-9413-afda309091fc"
      },
      "source": [
        "import pandas as pd \n",
        "import numpy as np\n",
        "import seaborn as sns\n",
        "datafile = pd.read_csv('task_dataset.csv')#read\n"
      ],
      "execution_count": null,
      "outputs": [
        {
          "output_type": "execute_result",
          "data": {
            "text/html": [
              "<div>\n",
              "<style scoped>\n",
              "    .dataframe tbody tr th:only-of-type {\n",
              "        vertical-align: middle;\n",
              "    }\n",
              "\n",
              "    .dataframe tbody tr th {\n",
              "        vertical-align: top;\n",
              "    }\n",
              "\n",
              "    .dataframe thead th {\n",
              "        text-align: right;\n",
              "    }\n",
              "</style>\n",
              "<table border=\"1\" class=\"dataframe\">\n",
              "  <thead>\n",
              "    <tr style=\"text-align: right;\">\n",
              "      <th></th>\n",
              "      <th>college</th>\n",
              "      <th>income</th>\n",
              "      <th>overage</th>\n",
              "      <th>leftover</th>\n",
              "      <th>house</th>\n",
              "      <th>handset_price</th>\n",
              "      <th>over_15mins_calls_per_month</th>\n",
              "      <th>average_call_duration</th>\n",
              "      <th>reported_satisfaction</th>\n",
              "      <th>reported_usage_level</th>\n",
              "      <th>considering_change_of_plan</th>\n",
              "      <th>leave</th>\n",
              "    </tr>\n",
              "  </thead>\n",
              "  <tbody>\n",
              "    <tr>\n",
              "      <th>0</th>\n",
              "      <td>NaN</td>\n",
              "      <td>31953</td>\n",
              "      <td>0</td>\n",
              "      <td>6</td>\n",
              "      <td>313378.0</td>\n",
              "      <td>161</td>\n",
              "      <td>0</td>\n",
              "      <td>4</td>\n",
              "      <td>unsat</td>\n",
              "      <td>little</td>\n",
              "      <td>no</td>\n",
              "      <td>STAY</td>\n",
              "    </tr>\n",
              "    <tr>\n",
              "      <th>1</th>\n",
              "      <td>one</td>\n",
              "      <td>36147</td>\n",
              "      <td>0</td>\n",
              "      <td>13</td>\n",
              "      <td>800586.0</td>\n",
              "      <td>244</td>\n",
              "      <td>0</td>\n",
              "      <td>6</td>\n",
              "      <td>unsat</td>\n",
              "      <td>little</td>\n",
              "      <td>considering</td>\n",
              "      <td>STAY</td>\n",
              "    </tr>\n",
              "    <tr>\n",
              "      <th>2</th>\n",
              "      <td>NaN</td>\n",
              "      <td>27273</td>\n",
              "      <td>230</td>\n",
              "      <td>0</td>\n",
              "      <td>305049.0</td>\n",
              "      <td>201</td>\n",
              "      <td>16</td>\n",
              "      <td>15</td>\n",
              "      <td>unsat</td>\n",
              "      <td>very_little</td>\n",
              "      <td>perhaps</td>\n",
              "      <td>STAY</td>\n",
              "    </tr>\n",
              "    <tr>\n",
              "      <th>3</th>\n",
              "      <td>NaN</td>\n",
              "      <td>120070</td>\n",
              "      <td>38</td>\n",
              "      <td>33</td>\n",
              "      <td>788235.0</td>\n",
              "      <td>780</td>\n",
              "      <td>3</td>\n",
              "      <td>2</td>\n",
              "      <td>unsat</td>\n",
              "      <td>very_high</td>\n",
              "      <td>considering</td>\n",
              "      <td>LEAVE</td>\n",
              "    </tr>\n",
              "    <tr>\n",
              "      <th>4</th>\n",
              "      <td>NaN</td>\n",
              "      <td>29215</td>\n",
              "      <td>208</td>\n",
              "      <td>85</td>\n",
              "      <td>224784.0</td>\n",
              "      <td>241</td>\n",
              "      <td>21</td>\n",
              "      <td>1</td>\n",
              "      <td>very_unsat</td>\n",
              "      <td>little</td>\n",
              "      <td>never_thought</td>\n",
              "      <td>STAY</td>\n",
              "    </tr>\n",
              "    <tr>\n",
              "      <th>...</th>\n",
              "      <td>...</td>\n",
              "      <td>...</td>\n",
              "      <td>...</td>\n",
              "      <td>...</td>\n",
              "      <td>...</td>\n",
              "      <td>...</td>\n",
              "      <td>...</td>\n",
              "      <td>...</td>\n",
              "      <td>...</td>\n",
              "      <td>...</td>\n",
              "      <td>...</td>\n",
              "      <td>...</td>\n",
              "    </tr>\n",
              "    <tr>\n",
              "      <th>9995</th>\n",
              "      <td>zero</td>\n",
              "      <td>122632</td>\n",
              "      <td>159</td>\n",
              "      <td>50</td>\n",
              "      <td>NaN</td>\n",
              "      <td>709</td>\n",
              "      <td>13</td>\n",
              "      <td>4</td>\n",
              "      <td>very_unsat</td>\n",
              "      <td>NaN</td>\n",
              "      <td>considering</td>\n",
              "      <td>LEAVE</td>\n",
              "    </tr>\n",
              "    <tr>\n",
              "      <th>9996</th>\n",
              "      <td>NaN</td>\n",
              "      <td>49172</td>\n",
              "      <td>213</td>\n",
              "      <td>63</td>\n",
              "      <td>546250.0</td>\n",
              "      <td>182</td>\n",
              "      <td>23</td>\n",
              "      <td>2</td>\n",
              "      <td>sat</td>\n",
              "      <td>very_little</td>\n",
              "      <td>never_thought</td>\n",
              "      <td>STAY</td>\n",
              "    </tr>\n",
              "    <tr>\n",
              "      <th>9997</th>\n",
              "      <td>NaN</td>\n",
              "      <td>35394</td>\n",
              "      <td>42</td>\n",
              "      <td>20</td>\n",
              "      <td>252354.0</td>\n",
              "      <td>195</td>\n",
              "      <td>4</td>\n",
              "      <td>4</td>\n",
              "      <td>very_unsat</td>\n",
              "      <td>very_high</td>\n",
              "      <td>actively_looking_into_it</td>\n",
              "      <td>STAY</td>\n",
              "    </tr>\n",
              "    <tr>\n",
              "      <th>9998</th>\n",
              "      <td>NaN</td>\n",
              "      <td>61268</td>\n",
              "      <td>0</td>\n",
              "      <td>12</td>\n",
              "      <td>172643.0</td>\n",
              "      <td>353</td>\n",
              "      <td>1</td>\n",
              "      <td>4</td>\n",
              "      <td>very_unsat</td>\n",
              "      <td>little</td>\n",
              "      <td>never_thought</td>\n",
              "      <td>STAY</td>\n",
              "    </tr>\n",
              "    <tr>\n",
              "      <th>9999</th>\n",
              "      <td>NaN</td>\n",
              "      <td>57467</td>\n",
              "      <td>242</td>\n",
              "      <td>6</td>\n",
              "      <td>212802.0</td>\n",
              "      <td>304</td>\n",
              "      <td>29</td>\n",
              "      <td>5</td>\n",
              "      <td>unsat</td>\n",
              "      <td>little</td>\n",
              "      <td>no</td>\n",
              "      <td>LEAVE</td>\n",
              "    </tr>\n",
              "  </tbody>\n",
              "</table>\n",
              "<p>10000 rows × 12 columns</p>\n",
              "</div>"
            ],
            "text/plain": [
              "     college  income  ...  considering_change_of_plan  leave\n",
              "0        NaN   31953  ...                          no   STAY\n",
              "1        one   36147  ...                 considering   STAY\n",
              "2        NaN   27273  ...                     perhaps   STAY\n",
              "3        NaN  120070  ...                 considering  LEAVE\n",
              "4        NaN   29215  ...               never_thought   STAY\n",
              "...      ...     ...  ...                         ...    ...\n",
              "9995    zero  122632  ...                 considering  LEAVE\n",
              "9996     NaN   49172  ...               never_thought   STAY\n",
              "9997     NaN   35394  ...    actively_looking_into_it   STAY\n",
              "9998     NaN   61268  ...               never_thought   STAY\n",
              "9999     NaN   57467  ...                          no  LEAVE\n",
              "\n",
              "[10000 rows x 12 columns]"
            ]
          },
          "metadata": {
            "tags": []
          },
          "execution_count": 138
        }
      ]
    },
    {
      "cell_type": "code",
      "metadata": {
        "colab": {
          "base_uri": "https://localhost:8080/",
          "height": 404
        },
        "id": "Xwf3jNR2EbdD",
        "outputId": "9675f877-f13c-4b7c-aab7-570ccec2435f"
      },
      "source": [
        "df = datafile.fillna('No information')\n",
        "satisfaction = df[['over_15mins_calls_per_month', 'reported_satisfaction']]\n",
        "no_long_calls = [\n",
        "    (df['over_15mins_calls_per_month'] <= 5),\n",
        "    (df['over_15mins_calls_per_month'] > 5) & (df['over_15mins_calls_per_month'] <= 10),\n",
        "    (df['over_15mins_calls_per_month'] > 10) & (df['over_15mins_calls_per_month'] <= 15),\n",
        "    (df['over_15mins_calls_per_month'] > 15)\n",
        "    ]#calculate conditions\n",
        "labels = ['<5', '>5&<10', '>10&<15', '>15']\n",
        "satisfaction['no_long_calls'] = np.select(no_long_calls, labels)#select from conditions\n",
        "df = satisfaction.groupby(['no_long_calls','reported_satisfaction']).count()#count groups members\n",
        "df.plot.barh()"
      ],
      "execution_count": null,
      "outputs": [
        {
          "output_type": "stream",
          "text": [
            "/usr/local/lib/python3.7/dist-packages/ipykernel_launcher.py:10: SettingWithCopyWarning: \n",
            "A value is trying to be set on a copy of a slice from a DataFrame.\n",
            "Try using .loc[row_indexer,col_indexer] = value instead\n",
            "\n",
            "See the caveats in the documentation: https://pandas.pydata.org/pandas-docs/stable/user_guide/indexing.html#returning-a-view-versus-a-copy\n",
            "  # Remove the CWD from sys.path while we load stuff.\n"
          ],
          "name": "stderr"
        },
        {
          "output_type": "execute_result",
          "data": {
            "text/plain": [
              "<matplotlib.axes._subplots.AxesSubplot at 0x7f139ddf6f90>"
            ]
          },
          "metadata": {
            "tags": []
          },
          "execution_count": 198
        },
        {
          "output_type": "display_data",
          "data": {
            "image/png": "[encoded data removed]",
            "text/plain": [
              "<Figure size 432x288 with 1 Axes>"
            ]
          },
          "metadata": {
            "tags": [],
            "needs_background": "light"
          }
        }
      ]
    },
    {
      "cell_type": "code",
      "metadata": {
        "colab": {
          "base_uri": "https://localhost:8080/",
          "height": 282
        },
        "id": "K1sup5QefHT8",
        "outputId": "f1fd5db6-1ea3-4ddf-d8d8-4628626729e2"
      },
      "source": [
        "change_plan = datafile.fillna('No information')\n",
        "change_plan = datafile[['overage','considering_change_of_plan']]\n",
        "change_plan = change_plan.groupby(['considering_change_of_plan']).sum()\n",
        "change_plan.plot.barh()"
      ],
      "execution_count": null,
      "outputs": [
        {
          "output_type": "execute_result",
          "data": {
            "text/plain": [
              "<matplotlib.axes._subplots.AxesSubplot at 0x7f139c39b690>"
            ]
          },
          "metadata": {
            "tags": []
          },
          "execution_count": 203
        },
        {
          "output_type": "display_data",
          "data": {
            "image/png": "[encoded data removed]",
            "text/plain": [
              "<Figure size 432x288 with 1 Axes>"
            ]
          },
          "metadata": {
            "tags": [],
            "needs_background": "light"
          }
        }
      ]
    },
    {
      "cell_type": "code",
      "metadata": {
        "colab": {
          "base_uri": "https://localhost:8080/",
          "height": 419
        },
        "id": "mWWQUENFZXBX",
        "outputId": "499a044e-7b8e-44c3-a160-da513f10f8bc"
      },
      "source": [
        "dt = datafile[['handset_price','leftover']]\n",
        "dt.handset_price.fillna(dt.handset_price.mean())#replace with mean\n",
        "dt.leftover.fillna(dt.leftover.mean())#replace with mean\n",
        "for column in dt.columns:\n",
        "    dt[column] = (dt[column] - dt[column].min()) / (dt[column].max() - dt[column].min()) #normalize data \n",
        "dt.plot.scatter(x='handset_price',y='leftover')"
      ],
      "execution_count": null,
      "outputs": [
        {
          "output_type": "stream",
          "text": [
            "/usr/local/lib/python3.7/dist-packages/ipykernel_launcher.py:5: SettingWithCopyWarning: \n",
            "A value is trying to be set on a copy of a slice from a DataFrame.\n",
            "Try using .loc[row_indexer,col_indexer] = value instead\n",
            "\n",
            "See the caveats in the documentation: https://pandas.pydata.org/pandas-docs/stable/user_guide/indexing.html#returning-a-view-versus-a-copy\n",
            "  \"\"\"\n"
          ],
          "name": "stderr"
        },
        {
          "output_type": "execute_result",
          "data": {
            "text/plain": [
              "<matplotlib.axes._subplots.AxesSubplot at 0x7f139dbe4e10>"
            ]
          },
          "metadata": {
            "tags": []
          },
          "execution_count": 201
        },
        {
          "output_type": "display_data",
          "data": {
            "image/png": "[encoded data removed]",
            "text/plain": [
              "<Figure size 432x288 with 1 Axes>"
            ]
          },
          "metadata": {
            "tags": [],
            "needs_background": "light"
          }
        }
      ]
    },
    {
      "cell_type": "code",
      "metadata": {
        "colab": {
          "base_uri": "https://localhost:8080/",
          "height": 541
        },
        "id": "uhXdmIUUoVPN",
        "outputId": "7e88d3ec-e42c-4a09-9cec-8310283dfd9e"
      },
      "source": [
        "data_model = datafile[['overage',\t'leftover',\t'handset_price',\t'over_15mins_calls_per_month',\t'leave']]\n",
        "data_model.overage.fillna(0)# if NaN replace with 0\n",
        "data_model.leftover.fillna(data_model.leftover.mean())# if NaN calculate mean\n",
        "data_model.over_15mins_calls_per_month.fillna(data_model.over_15mins_calls_per_month.mean())#if NaN calculate mean\n",
        "data_model['leave'] = datafile.leave.eq('LEAVE').mul(1)#convert values to 0-1\n",
        "x = data_model.iloc[:,0:4]\n",
        "y = data_model.iloc[:,4:]\n"
      ],
      "execution_count": null,
      "outputs": [
        {
          "output_type": "stream",
          "text": [
            "/usr/local/lib/python3.7/dist-packages/ipykernel_launcher.py:5: SettingWithCopyWarning: \n",
            "A value is trying to be set on a copy of a slice from a DataFrame.\n",
            "Try using .loc[row_indexer,col_indexer] = value instead\n",
            "\n",
            "See the caveats in the documentation: https://pandas.pydata.org/pandas-docs/stable/user_guide/indexing.html#returning-a-view-versus-a-copy\n",
            "  \"\"\"\n"
          ],
          "name": "stderr"
        },
        {
          "output_type": "execute_result",
          "data": {
            "text/html": [
              "<div>\n",
              "<style scoped>\n",
              "    .dataframe tbody tr th:only-of-type {\n",
              "        vertical-align: middle;\n",
              "    }\n",
              "\n",
              "    .dataframe tbody tr th {\n",
              "        vertical-align: top;\n",
              "    }\n",
              "\n",
              "    .dataframe thead th {\n",
              "        text-align: right;\n",
              "    }\n",
              "</style>\n",
              "<table border=\"1\" class=\"dataframe\">\n",
              "  <thead>\n",
              "    <tr style=\"text-align: right;\">\n",
              "      <th></th>\n",
              "      <th>leave</th>\n",
              "    </tr>\n",
              "  </thead>\n",
              "  <tbody>\n",
              "    <tr>\n",
              "      <th>0</th>\n",
              "      <td>0</td>\n",
              "    </tr>\n",
              "    <tr>\n",
              "      <th>1</th>\n",
              "      <td>0</td>\n",
              "    </tr>\n",
              "    <tr>\n",
              "      <th>2</th>\n",
              "      <td>0</td>\n",
              "    </tr>\n",
              "    <tr>\n",
              "      <th>3</th>\n",
              "      <td>1</td>\n",
              "    </tr>\n",
              "    <tr>\n",
              "      <th>4</th>\n",
              "      <td>0</td>\n",
              "    </tr>\n",
              "    <tr>\n",
              "      <th>...</th>\n",
              "      <td>...</td>\n",
              "    </tr>\n",
              "    <tr>\n",
              "      <th>9995</th>\n",
              "      <td>1</td>\n",
              "    </tr>\n",
              "    <tr>\n",
              "      <th>9996</th>\n",
              "      <td>0</td>\n",
              "    </tr>\n",
              "    <tr>\n",
              "      <th>9997</th>\n",
              "      <td>0</td>\n",
              "    </tr>\n",
              "    <tr>\n",
              "      <th>9998</th>\n",
              "      <td>0</td>\n",
              "    </tr>\n",
              "    <tr>\n",
              "      <th>9999</th>\n",
              "      <td>1</td>\n",
              "    </tr>\n",
              "  </tbody>\n",
              "</table>\n",
              "<p>10000 rows × 1 columns</p>\n",
              "</div>"
            ],
            "text/plain": [
              "      leave\n",
              "0         0\n",
              "1         0\n",
              "2         0\n",
              "3         1\n",
              "4         0\n",
              "...     ...\n",
              "9995      1\n",
              "9996      0\n",
              "9997      0\n",
              "9998      0\n",
              "9999      1\n",
              "\n",
              "[10000 rows x 1 columns]"
            ]
          },
          "metadata": {
            "tags": []
          },
          "execution_count": 202
        }
      ]
    },
    {
      "cell_type": "code",
      "metadata": {
        "colab": {
          "base_uri": "https://localhost:8080/"
        },
        "id": "B66hZKetSpOK",
        "outputId": "b6610889-4cb8-48fb-d8ac-d7be18788b34"
      },
      "source": [
        "from sklearn.model_selection import train_test_split\n",
        "xtrain,xtest,ytrain,ytest=train_test_split(x,y,test_size=0.2,random_state=2)\n",
        "from sklearn.linear_model import LogisticRegression\n",
        "log_reg=LogisticRegression()\n",
        "log_reg.fit(xtrain,ytrain)#train model"
      ],
      "execution_count": null,
      "outputs": [
        {
          "output_type": "stream",
          "text": [
            "/usr/local/lib/python3.7/dist-packages/sklearn/utils/validation.py:760: DataConversionWarning: A column-vector y was passed when a 1d array was expected. Please change the shape of y to (n_samples, ), for example using ravel().\n",
            "  y = column_or_1d(y, warn=True)\n"
          ],
          "name": "stderr"
        },
        {
          "output_type": "execute_result",
          "data": {
            "text/plain": [
              "LogisticRegression(C=1.0, class_weight=None, dual=False, fit_intercept=True,\n",
              "                   intercept_scaling=1, l1_ratio=None, max_iter=100,\n",
              "                   multi_class='auto', n_jobs=None, penalty='l2',\n",
              "                   random_state=None, solver='lbfgs', tol=0.0001, verbose=0,\n",
              "                   warm_start=False)"
            ]
          },
          "metadata": {
            "tags": []
          },
          "execution_count": 140
        }
      ]
    },
    {
      "cell_type": "code",
      "metadata": {
        "id": "_MF3OAosfwfK"
      },
      "source": [
        "predictions=log_reg.predict(xtest)\n",
        "from sklearn.metrics import confusion_matrix\n",
        "conf_matrix=confusion_matrix(ytest,predictions)# calculate confusion matrix\n"
      ],
      "execution_count": null,
      "outputs": []
    },
    {
      "cell_type": "code",
      "metadata": {
        "colab": {
          "base_uri": "https://localhost:8080/"
        },
        "id": "uH-alS0Sf3-f",
        "outputId": "64e3b1ae-9a70-449b-d216-ce9c444d1eeb"
      },
      "source": [
        "from sklearn.metrics import accuracy_score\n",
        "accuracy_score(ytest,predictions) #calculate accurancy score"
      ],
      "execution_count": null,
      "outputs": [
        {
          "output_type": "execute_result",
          "data": {
            "text/plain": [
              "0.6185"
            ]
          },
          "metadata": {
            "tags": []
          },
          "execution_count": 142
        }
      ]
    },
    {
      "cell_type": "code",
      "metadata": {
        "colab": {
          "base_uri": "https://localhost:8080/"
        },
        "id": "4pTo3Mrnm8Zk",
        "outputId": "6f07a39f-a917-4662-cc56-ac7d319cb821"
      },
      "source": [
        "log_reg.predict_proba(np.array([[38,33,780,3]]))#predict if clients stays "
      ],
      "execution_count": null,
      "outputs": [
        {
          "output_type": "execute_result",
          "data": {
            "text/plain": [
              "array([[0.47452679, 0.52547321]])"
            ]
          },
          "metadata": {
            "tags": []
          },
          "execution_count": 195
        }
      ]
    }
  ]
}